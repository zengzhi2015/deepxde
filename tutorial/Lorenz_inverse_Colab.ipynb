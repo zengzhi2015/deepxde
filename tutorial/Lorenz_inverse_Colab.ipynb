{
 "cells": [
  {
   "cell_type": "markdown",
   "metadata": {
    "colab_type": "text",
    "id": "view-in-github"
   },
   "source": [
    "<a href=\"https://colab.research.google.com/github/lululxvi/deepxde/blob/master/examples/Lorenz_inverse_Colab.ipynb\" target=\"_parent\"><img src=\"https://colab.research.google.com/assets/colab-badge.svg\" alt=\"Open In Colab\"/></a>"
   ]
  },
  {
   "cell_type": "markdown",
   "metadata": {
    "colab_type": "text",
    "id": "1sfGVj1Zg63V"
   },
   "source": [
    "Imports and functions"
   ]
  },
  {
   "cell_type": "code",
   "execution_count": 1,
   "metadata": {},
   "outputs": [
    {
     "name": "stdout",
     "output_type": "stream",
     "text": [
      "Using TensorFlow 2 backend.\n",
      "\n",
      "WARNING:tensorflow:From c:\\programdata\\anaconda3\\envs\\deepxde\\lib\\site-packages\\tensorflow\\python\\compat\\v2_compat.py:96: disable_resource_variables (from tensorflow.python.ops.variable_scope) is deprecated and will be removed in a future version.\n",
      "Instructions for updating:\n",
      "non-resource variables are not supported in the long term\n"
     ]
    }
   ],
   "source": [
    "from __future__ import absolute_import\n",
    "from __future__ import division\n",
    "from __future__ import print_function\n",
    "\n",
    "import io\n",
    "import re\n",
    "\n",
    "import matplotlib.pyplot as plt\n",
    "import numpy as np\n",
    "import requests\n",
    "\n",
    "import deepxde as dde\n",
    "from deepxde.backend import tf"
   ]
  },
  {
   "cell_type": "code",
   "execution_count": 2,
   "metadata": {
    "colab": {
     "base_uri": "https://localhost:8080/",
     "height": 102
    },
    "colab_type": "code",
    "id": "eyuhFn4fgkld",
    "outputId": "3ca31e87-1428-4e7e-ff46-347ac74431a7"
   },
   "outputs": [],
   "source": [
    "# get training data\n",
    "def gen_traindata():\n",
    "    response = requests.get('https://github.com/lululxvi/deepxde/raw/master/examples/dataset/Lorenz.npz')\n",
    "    response.raise_for_status()\n",
    "    data = np.load(io.BytesIO(response.content))\n",
    "    return data[\"t\"], data[\"y\"]\n",
    "\n",
    "# parameters to be identified\n",
    "C1 = tf.Variable(1.0)\n",
    "C2 = tf.Variable(1.0)\n",
    "C3 = tf.Variable(1.0)\n",
    "\n",
    "# true values, see p. 15 in https://arxiv.org/abs/1907.04502\n",
    "C1true = 10\n",
    "C2true = 15\n",
    "C3true = 8/3\n",
    "\n",
    "# define system ODEs\n",
    "def Lorenz_system(x, y):\n",
    "    \"\"\"Lorenz system.\n",
    "    dy1/dx = 10 * (y2 - y1)\n",
    "    dy2/dx = y1 * (28 - y3) - y2\n",
    "    dy3/dx = y1 * y2 - 8/3 * y3\n",
    "    \"\"\"\n",
    "    y1, y2, y3 = y[:, 0:1], y[:, 1:2], y[:, 2:]\n",
    "    dy1_x = dde.grad.jacobian(y, x, i=0)\n",
    "    dy2_x = dde.grad.jacobian(y, x, i=1)\n",
    "    dy3_x = dde.grad.jacobian(y, x, i=2)\n",
    "    return [\n",
    "        dy1_x - C1 * (y2 - y1),\n",
    "        dy2_x - y1 * (C2 - y3) + y2,\n",
    "        dy3_x - y1 * y2 + C3 * y3,\n",
    "    ]\n",
    "\n",
    "def boundary(_, on_initial):\n",
    "    return on_initial"
   ]
  },
  {
   "cell_type": "markdown",
   "metadata": {
    "colab_type": "text",
    "id": "c8yTpgeIgpEa"
   },
   "source": [
    "Define data and BCs"
   ]
  },
  {
   "cell_type": "code",
   "execution_count": 3,
   "metadata": {
    "colab": {
     "base_uri": "https://localhost:8080/",
     "height": 295
    },
    "colab_type": "code",
    "id": "V5GUlQ_4goNr",
    "outputId": "04b9ae60-78cf-48b3-ebfe-7fe55964bf85"
   },
   "outputs": [
    {
     "data": {
      "image/png": "[encoded data removed]",
      "text/plain": [
       "<Figure size 432x288 with 1 Axes>"
      ]
     },
     "metadata": {
      "needs_background": "light"
     },
     "output_type": "display_data"
    }
   ],
   "source": [
    "# define time domain\n",
    "geom = dde.geometry.TimeDomain(0, 3)\n",
    "\n",
    "# Initial conditions\n",
    "ic1 = dde.IC(geom, lambda X: -8, boundary, component=0)\n",
    "ic2 = dde.IC(geom, lambda X: 7, boundary, component=1)\n",
    "ic3 = dde.IC(geom, lambda X: 27, boundary, component=2)\n",
    "\n",
    "# Get the training data\n",
    "observe_t, ob_y = gen_traindata()\n",
    "observe_y0 = dde.PointSetBC(observe_t, ob_y[:, 0:1], component=0)\n",
    "observe_y1 = dde.PointSetBC(observe_t, ob_y[:, 1:2], component=1)\n",
    "observe_y2 = dde.PointSetBC(observe_t, ob_y[:, 2:3], component=2)\n",
    "\n",
    "# define data object\n",
    "data = dde.data.PDE(\n",
    "    geom,\n",
    "    Lorenz_system,\n",
    "    [ic1, ic2, ic3, observe_y0, observe_y1, observe_y2],\n",
    "    num_domain=400,\n",
    "    num_boundary=2,\n",
    "    anchors=observe_t,\n",
    ")\n",
    "\n",
    "plt.plot(observe_t, ob_y)\n",
    "plt.xlabel('Time')\n",
    "plt.legend(['x','y','z'])\n",
    "plt.title('Training data')\n",
    "plt.show()"
   ]
  },
  {
   "cell_type": "markdown",
   "metadata": {
    "colab_type": "text",
    "id": "qeuWXbSE4SZi"
   },
   "source": [
    "Train network"
   ]
  },
  {
   "cell_type": "code",
   "execution_count": 4,
   "metadata": {
    "colab": {
     "base_uri": "https://localhost:8080/",
     "height": 1000
    },
    "colab_type": "code",
    "id": "usZzo2ylv4UA",
    "outputId": "06061756-ab06-46a0-8c32-8f9205cc6507"
   },
   "outputs": [
    {
     "name": "stdout",
     "output_type": "stream",
     "text": [
      "Compiling model...\n",
      "Building feed-forward neural network...\n",
      "'build' took 0.051860 s\n",
      "\n"
     ]
    },
    {
     "name": "stderr",
     "output_type": "stream",
     "text": [
      "c:\\programdata\\anaconda3\\envs\\deepxde\\lib\\site-packages\\tensorflow\\python\\keras\\legacy_tf_layers\\core.py:171: UserWarning: `tf.layers.dense` is deprecated and will be removed in a future version. Please use `tf.keras.layers.Dense` instead.\n",
      "  warnings.warn('`tf.layers.dense` is deprecated and '\n",
      "c:\\programdata\\anaconda3\\envs\\deepxde\\lib\\site-packages\\tensorflow\\python\\keras\\engine\\base_layer_v1.py:1719: UserWarning: `layer.apply` is deprecated and will be removed in a future version. Please use `layer.__call__` method instead.\n",
      "  warnings.warn('`layer.apply` is deprecated and '\n"
     ]
    },
    {
     "name": "stdout",
     "output_type": "stream",
     "text": [
      "'compile' took 0.912562 s\n",
      "\n",
      "Initializing variables...\n",
      "Training model...\n",
      "\n",
      "Step      Train loss                                                                                    Test loss                                                                                     Test metric\n",
      "0         [2.46e-01, 1.84e-01, 4.76e-02, 6.40e+01, 4.90e+01, 7.29e+02, 3.12e+01, 3.98e+01, 2.61e+02]    [2.46e-01, 1.84e-01, 4.76e-02, 0.00e+00, 0.00e+00, 0.00e+00, 0.00e+00, 0.00e+00, 0.00e+00]    []  \n",
      "1000      [4.89e+00, 3.11e+00, 3.08e+00, 3.37e+01, 8.84e-03, 2.04e+00, 3.33e+01, 7.00e+00, 1.01e+01]    [4.89e+00, 3.11e+00, 3.08e+00, 0.00e+00, 0.00e+00, 0.00e+00, 0.00e+00, 0.00e+00, 0.00e+00]    []  \n",
      "2000      [9.13e+00, 1.91e+00, 1.17e+00, 1.60e+01, 3.32e-01, 1.57e+00, 3.29e+01, 1.62e+01, 4.03e+00]    [9.13e+00, 1.91e+00, 1.17e+00, 0.00e+00, 0.00e+00, 0.00e+00, 0.00e+00, 0.00e+00, 0.00e+00]    []  \n",
      "3000      [8.61e+00, 1.98e+00, 8.77e-01, 1.28e+01, 3.90e-01, 1.44e+00, 3.28e+01, 1.89e+01, 2.73e+00]    [8.61e+00, 1.98e+00, 8.77e-01, 0.00e+00, 0.00e+00, 0.00e+00, 0.00e+00, 0.00e+00, 0.00e+00]    []  \n",
      "4000      [8.32e+00, 2.10e+00, 6.91e-01, 1.11e+01, 3.85e-01, 1.34e+00, 3.26e+01, 1.95e+01, 2.26e+00]    [8.32e+00, 2.10e+00, 6.91e-01, 0.00e+00, 0.00e+00, 0.00e+00, 0.00e+00, 0.00e+00, 0.00e+00]    []  \n",
      "5000      [7.98e+00, 2.25e+00, 5.58e-01, 9.68e+00, 3.75e-01, 1.25e+00, 3.25e+01, 1.98e+01, 1.89e+00]    [7.98e+00, 2.25e+00, 5.58e-01, 0.00e+00, 0.00e+00, 0.00e+00, 0.00e+00, 0.00e+00, 0.00e+00]    []  \n",
      "6000      [7.59e+00, 2.45e+00, 4.42e-01, 8.32e+00, 3.58e-01, 1.13e+00, 3.21e+01, 1.99e+01, 1.71e+00]    [7.59e+00, 2.45e+00, 4.42e-01, 0.00e+00, 0.00e+00, 0.00e+00, 0.00e+00, 0.00e+00, 0.00e+00]    []  \n",
      "7000      [7.01e+00, 2.88e+00, 3.48e-01, 6.92e+00, 3.35e-01, 9.85e-01, 3.13e+01, 2.00e+01, 1.74e+00]    [7.01e+00, 2.88e+00, 3.48e-01, 0.00e+00, 0.00e+00, 0.00e+00, 0.00e+00, 0.00e+00, 0.00e+00]    []  \n",
      "8000      [2.18e+00, 2.98e+00, 8.13e-01, 3.77e+00, 4.49e-01, 3.77e-01, 1.26e+01, 1.24e+01, 1.35e+01]    [2.18e+00, 2.98e+00, 8.13e-01, 0.00e+00, 0.00e+00, 0.00e+00, 0.00e+00, 0.00e+00, 0.00e+00]    []  \n",
      "9000      [6.32e-01, 1.42e+00, 4.17e-01, 1.44e+00, 2.31e-01, 1.66e-02, 4.34e+00, 4.14e+00, 1.09e+01]    [6.32e-01, 1.42e+00, 4.17e-01, 0.00e+00, 0.00e+00, 0.00e+00, 0.00e+00, 0.00e+00, 0.00e+00]    []  \n",
      "10000     [3.12e-01, 7.12e-01, 2.77e-01, 7.72e-01, 7.62e-02, 7.67e-03, 2.08e+00, 2.00e+00, 7.21e+00]    [3.12e-01, 7.12e-01, 2.77e-01, 0.00e+00, 0.00e+00, 0.00e+00, 0.00e+00, 0.00e+00, 0.00e+00]    []  \n",
      "11000     [1.92e-01, 4.12e-01, 1.82e-01, 4.08e-01, 2.82e-02, 2.28e-02, 1.26e+00, 1.28e+00, 4.56e+00]    [1.92e-01, 4.12e-01, 1.82e-01, 0.00e+00, 0.00e+00, 0.00e+00, 0.00e+00, 0.00e+00, 0.00e+00]    []  \n",
      "12000     [1.32e-01, 2.83e-01, 1.49e-01, 2.23e-01, 1.41e-02, 2.00e-02, 8.80e-01, 9.12e-01, 2.67e+00]    [1.32e-01, 2.83e-01, 1.49e-01, 0.00e+00, 0.00e+00, 0.00e+00, 0.00e+00, 0.00e+00, 0.00e+00]    []  \n",
      "13000     [1.47e-01, 2.27e-01, 1.29e-01, 1.29e-01, 7.21e-03, 1.60e-02, 5.97e-01, 6.15e-01, 1.41e+00]    [1.47e-01, 2.27e-01, 1.29e-01, 0.00e+00, 0.00e+00, 0.00e+00, 0.00e+00, 0.00e+00, 0.00e+00]    []  \n",
      "14000     [7.28e-02, 2.22e-01, 1.65e-01, 5.79e-02, 3.68e-03, 1.20e-02, 4.31e-01, 4.58e-01, 7.68e-01]    [7.28e-02, 2.22e-01, 1.65e-01, 0.00e+00, 0.00e+00, 0.00e+00, 0.00e+00, 0.00e+00, 0.00e+00]    []  \n",
      "15000     [6.32e-02, 2.15e-01, 1.38e-01, 3.06e-02, 2.10e-03, 3.97e-03, 3.05e-01, 3.49e-01, 5.19e-01]    [6.32e-02, 2.15e-01, 1.38e-01, 0.00e+00, 0.00e+00, 0.00e+00, 0.00e+00, 0.00e+00, 0.00e+00]    []  \n",
      "16000     [5.50e-02, 2.02e-01, 1.50e-01, 1.26e-02, 1.79e-03, 1.23e-03, 2.26e-01, 2.79e-01, 4.06e-01]    [5.50e-02, 2.02e-01, 1.50e-01, 0.00e+00, 0.00e+00, 0.00e+00, 0.00e+00, 0.00e+00, 0.00e+00]    []  \n",
      "17000     [1.62e-01, 1.65e-01, 1.86e-01, 4.11e-03, 2.66e-03, 1.71e-03, 1.66e-01, 2.13e-01, 3.05e-01]    [1.62e-01, 1.65e-01, 1.86e-01, 0.00e+00, 0.00e+00, 0.00e+00, 0.00e+00, 0.00e+00, 0.00e+00]    []  \n",
      "18000     [5.43e-02, 1.90e-01, 1.53e-01, 1.14e-03, 1.19e-03, 1.42e-04, 1.28e-01, 1.80e-01, 2.47e-01]    [5.43e-02, 1.90e-01, 1.53e-01, 0.00e+00, 0.00e+00, 0.00e+00, 0.00e+00, 0.00e+00, 0.00e+00]    []  \n",
      "19000     [4.72e-02, 1.41e-01, 1.23e-01, 5.29e-04, 7.41e-04, 2.56e-05, 8.07e-02, 1.13e-01, 1.66e-01]    [4.72e-02, 1.41e-01, 1.23e-01, 0.00e+00, 0.00e+00, 0.00e+00, 0.00e+00, 0.00e+00, 0.00e+00]    []  \n",
      "20000     [4.52e-02, 1.59e-01, 9.69e-02, 1.05e-04, 5.91e-04, 6.83e-05, 6.29e-02, 8.74e-02, 1.31e-01]    [4.52e-02, 1.59e-01, 9.69e-02, 0.00e+00, 0.00e+00, 0.00e+00, 0.00e+00, 0.00e+00, 0.00e+00]    []  \n",
      "21000     [3.30e-02, 1.61e-01, 7.49e-02, 2.23e-04, 5.91e-04, 1.45e-04, 4.90e-02, 6.72e-02, 1.04e-01]    [3.30e-02, 1.61e-01, 7.49e-02, 0.00e+00, 0.00e+00, 0.00e+00, 0.00e+00, 0.00e+00, 0.00e+00]    []  \n",
      "22000     [4.04e-02, 1.51e-01, 8.82e-02, 9.39e-06, 8.83e-04, 1.36e-05, 3.70e-02, 4.87e-02, 7.79e-02]    [4.04e-02, 1.51e-01, 8.82e-02, 0.00e+00, 0.00e+00, 0.00e+00, 0.00e+00, 0.00e+00, 0.00e+00]    []  \n",
      "23000     [2.71e-02, 1.20e-01, 5.23e-02, 1.83e-04, 2.04e-04, 2.42e-04, 2.68e-02, 3.65e-02, 5.68e-02]    [2.71e-02, 1.20e-01, 5.23e-02, 0.00e+00, 0.00e+00, 0.00e+00, 0.00e+00, 0.00e+00, 0.00e+00]    []  \n",
      "24000     [2.03e-02, 9.81e-02, 4.72e-02, 4.23e-04, 8.37e-05, 5.27e-04, 1.90e-02, 2.60e-02, 4.09e-02]    [2.03e-02, 9.81e-02, 4.72e-02, 0.00e+00, 0.00e+00, 0.00e+00, 0.00e+00, 0.00e+00, 0.00e+00]    []  \n",
      "25000     [1.43e-02, 6.49e-02, 4.10e-02, 2.01e-04, 8.59e-05, 2.72e-04, 1.29e-02, 1.74e-02, 2.75e-02]    [1.43e-02, 6.49e-02, 4.10e-02, 0.00e+00, 0.00e+00, 0.00e+00, 0.00e+00, 0.00e+00, 0.00e+00]    []  \n",
      "26000     [1.15e-02, 4.10e-02, 3.43e-02, 1.28e-05, 2.07e-04, 6.39e-07, 8.43e-03, 1.12e-02, 1.78e-02]    [1.15e-02, 4.10e-02, 3.43e-02, 0.00e+00, 0.00e+00, 0.00e+00, 0.00e+00, 0.00e+00, 0.00e+00]    []  \n",
      "27000     [1.08e-02, 2.75e-02, 2.48e-02, 5.41e-05, 8.30e-05, 3.50e-05, 5.46e-03, 7.25e-03, 1.16e-02]    [1.08e-02, 2.75e-02, 2.48e-02, 0.00e+00, 0.00e+00, 0.00e+00, 0.00e+00, 0.00e+00, 0.00e+00]    []  \n",
      "28000     [1.03e-02, 1.97e-02, 1.66e-02, 4.46e-05, 4.26e-05, 4.18e-05, 3.55e-03, 4.68e-03, 7.45e-03]    [1.03e-02, 1.97e-02, 1.66e-02, 0.00e+00, 0.00e+00, 0.00e+00, 0.00e+00, 0.00e+00, 0.00e+00]    []  \n",
      "29000     [1.76e-02, 1.89e-02, 2.55e-02, 3.96e-05, 2.24e-04, 4.68e-05, 2.42e-03, 3.11e-03, 5.04e-03]    [1.76e-02, 1.89e-02, 2.55e-02, 0.00e+00, 0.00e+00, 0.00e+00, 0.00e+00, 0.00e+00, 0.00e+00]    []  \n",
      "30000     [8.90e-03, 1.34e-02, 1.11e-02, 3.96e-05, 3.69e-05, 1.76e-05, 1.66e-03, 2.18e-03, 3.50e-03]    [8.90e-03, 1.34e-02, 1.11e-02, 0.00e+00, 0.00e+00, 0.00e+00, 0.00e+00, 0.00e+00, 0.00e+00]    []  \n",
      "31000     [7.76e-03, 1.18e-02, 9.95e-03, 1.45e-05, 2.74e-05, 7.00e-06, 1.24e-03, 1.66e-03, 2.65e-03]    [7.76e-03, 1.18e-02, 9.95e-03, 0.00e+00, 0.00e+00, 0.00e+00, 0.00e+00, 0.00e+00, 0.00e+00]    []  \n",
      "32000     [6.67e-03, 1.04e-02, 8.89e-03, 9.87e-06, 2.98e-05, 2.32e-06, 9.68e-04, 1.29e-03, 2.07e-03]    [6.67e-03, 1.04e-02, 8.89e-03, 0.00e+00, 0.00e+00, 0.00e+00, 0.00e+00, 0.00e+00, 0.00e+00]    []  \n",
      "33000     [6.39e-03, 9.32e-03, 8.61e-03, 4.20e-06, 1.91e-05, 3.42e-06, 7.97e-04, 1.07e-03, 1.71e-03]    [6.39e-03, 9.32e-03, 8.61e-03, 0.00e+00, 0.00e+00, 0.00e+00, 0.00e+00, 0.00e+00, 0.00e+00]    []  \n",
      "34000     [5.68e-03, 8.42e-03, 8.26e-03, 7.86e-06, 2.28e-05, 1.63e-06, 6.60e-04, 8.86e-04, 1.44e-03]    [5.68e-03, 8.42e-03, 8.26e-03, 0.00e+00, 0.00e+00, 0.00e+00, 0.00e+00, 0.00e+00, 0.00e+00]    []  \n",
      "35000     [5.45e-03, 7.71e-03, 8.24e-03, 1.32e-06, 3.73e-05, 2.19e-06, 5.70e-04, 7.67e-04, 1.26e-03]    [5.45e-03, 7.71e-03, 8.24e-03, 0.00e+00, 0.00e+00, 0.00e+00, 0.00e+00, 0.00e+00, 0.00e+00]    []  \n",
      "36000     [2.45e-02, 1.04e-02, 2.71e-02, 2.17e-07, 2.03e-04, 1.36e-04, 4.85e-04, 7.81e-04, 1.09e-03]    [2.45e-02, 1.04e-02, 2.71e-02, 0.00e+00, 0.00e+00, 0.00e+00, 0.00e+00, 0.00e+00, 0.00e+00]    []  \n",
      "37000     [5.12e-03, 6.74e-03, 8.26e-03, 9.34e-06, 6.05e-05, 3.76e-05, 4.58e-04, 6.13e-04, 9.99e-04]    [5.12e-03, 6.74e-03, 8.26e-03, 0.00e+00, 0.00e+00, 0.00e+00, 0.00e+00, 0.00e+00, 0.00e+00]    []  \n",
      "38000     [4.81e-03, 6.02e-03, 7.42e-03, 5.55e-06, 1.65e-05, 8.31e-07, 3.96e-04, 5.41e-04, 9.04e-04]    [4.81e-03, 6.02e-03, 7.42e-03, 0.00e+00, 0.00e+00, 0.00e+00, 0.00e+00, 0.00e+00, 0.00e+00]    []  \n"
     ]
    },
    {
     "name": "stdout",
     "output_type": "stream",
     "text": [
      "39000     [4.68e-03, 5.63e-03, 7.23e-03, 5.10e-06, 1.36e-05, 1.22e-06, 3.59e-04, 4.94e-04, 8.27e-04]    [4.68e-03, 5.63e-03, 7.23e-03, 0.00e+00, 0.00e+00, 0.00e+00, 0.00e+00, 0.00e+00, 0.00e+00]    []  \n",
      "40000     [5.08e-03, 5.32e-03, 7.24e-03, 2.37e-07, 5.42e-05, 2.13e-05, 3.34e-04, 4.54e-04, 7.62e-04]    [5.08e-03, 5.32e-03, 7.24e-03, 0.00e+00, 0.00e+00, 0.00e+00, 0.00e+00, 0.00e+00, 0.00e+00]    []  \n",
      "41000     [4.50e-03, 5.10e-03, 6.95e-03, 8.81e-06, 5.21e-05, 3.51e-05, 3.15e-04, 4.29e-04, 7.16e-04]    [4.50e-03, 5.10e-03, 6.95e-03, 0.00e+00, 0.00e+00, 0.00e+00, 0.00e+00, 0.00e+00, 0.00e+00]    []  \n",
      "42000     [4.37e-03, 4.75e-03, 6.73e-03, 3.51e-06, 1.47e-05, 5.68e-08, 2.81e-04, 3.90e-04, 6.62e-04]    [4.37e-03, 4.75e-03, 6.73e-03, 0.00e+00, 0.00e+00, 0.00e+00, 0.00e+00, 0.00e+00, 0.00e+00]    []  \n",
      "43000     [4.26e-03, 4.51e-03, 6.57e-03, 3.30e-06, 1.34e-05, 1.65e-07, 2.65e-04, 3.70e-04, 6.29e-04]    [4.26e-03, 4.51e-03, 6.57e-03, 0.00e+00, 0.00e+00, 0.00e+00, 0.00e+00, 0.00e+00, 0.00e+00]    []  \n",
      "44000     [4.27e-03, 4.39e-03, 6.76e-03, 1.82e-07, 3.20e-05, 1.13e-05, 2.52e-04, 3.49e-04, 5.95e-04]    [4.27e-03, 4.39e-03, 6.76e-03, 0.00e+00, 0.00e+00, 0.00e+00, 0.00e+00, 0.00e+00, 0.00e+00]    []  \n",
      "45000     [4.45e-03, 4.35e-03, 7.17e-03, 3.12e-05, 4.20e-07, 3.57e-05, 2.36e-04, 3.39e-04, 5.87e-04]    [4.45e-03, 4.35e-03, 7.17e-03, 0.00e+00, 0.00e+00, 0.00e+00, 0.00e+00, 0.00e+00, 0.00e+00]    []  \n",
      "46000     [7.28e-03, 6.71e-03, 2.02e-02, 2.13e-05, 1.46e-05, 1.08e-05, 2.78e-04, 3.83e-04, 5.61e-04]    [7.28e-03, 6.71e-03, 2.02e-02, 0.00e+00, 0.00e+00, 0.00e+00, 0.00e+00, 0.00e+00, 0.00e+00]    []  \n",
      "47000     [4.23e-03, 4.08e-03, 7.37e-03, 1.71e-07, 2.46e-05, 7.60e-06, 2.16e-04, 3.09e-04, 5.25e-04]    [4.23e-03, 4.08e-03, 7.37e-03, 0.00e+00, 0.00e+00, 0.00e+00, 0.00e+00, 0.00e+00, 0.00e+00]    []  \n",
      "48000     [4.41e-03, 3.79e-03, 6.17e-03, 1.59e-05, 1.02e-05, 5.18e-06, 1.95e-04, 2.70e-04, 4.77e-04]    [4.41e-03, 3.79e-03, 6.17e-03, 0.00e+00, 0.00e+00, 0.00e+00, 0.00e+00, 0.00e+00, 0.00e+00]    []  \n",
      "49000     [3.42e-02, 6.47e-03, 2.53e-02, 1.28e-05, 7.00e-05, 1.77e-04, 2.33e-04, 5.05e-04, 5.82e-04]    [3.42e-02, 6.47e-03, 2.53e-02, 0.00e+00, 0.00e+00, 0.00e+00, 0.00e+00, 0.00e+00, 0.00e+00]    []  \n",
      "50000     [4.69e-03, 4.53e-03, 1.11e-02, 1.59e-05, 3.19e-05, 2.30e-05, 1.86e-04, 2.71e-04, 4.11e-04]    [4.69e-03, 4.53e-03, 1.11e-02, 0.00e+00, 0.00e+00, 0.00e+00, 0.00e+00, 0.00e+00, 0.00e+00]    []  \n",
      "51000     [3.43e-03, 3.22e-03, 5.32e-03, 8.84e-06, 7.62e-06, 1.98e-06, 1.43e-04, 2.03e-04, 3.56e-04]    [3.43e-03, 3.22e-03, 5.32e-03, 0.00e+00, 0.00e+00, 0.00e+00, 0.00e+00, 0.00e+00, 0.00e+00]    []  \n",
      "52000     [3.18e-03, 3.05e-03, 5.04e-03, 2.72e-06, 7.54e-06, 1.51e-07, 1.29e-04, 1.88e-04, 3.23e-04]    [3.18e-03, 3.05e-03, 5.04e-03, 0.00e+00, 0.00e+00, 0.00e+00, 0.00e+00, 0.00e+00, 0.00e+00]    []  \n",
      "53000     [8.43e-03, 3.80e-03, 1.09e-02, 1.32e-05, 3.31e-05, 1.24e-06, 1.19e-04, 2.05e-04, 2.91e-04]    [8.43e-03, 3.80e-03, 1.09e-02, 0.00e+00, 0.00e+00, 0.00e+00, 0.00e+00, 0.00e+00, 0.00e+00]    []  \n",
      "54000     [2.90e-03, 2.79e-03, 4.56e-03, 2.74e-06, 5.16e-06, 4.18e-07, 1.07e-04, 1.58e-04, 2.71e-04]    [2.90e-03, 2.79e-03, 4.56e-03, 0.00e+00, 0.00e+00, 0.00e+00, 0.00e+00, 0.00e+00, 0.00e+00]    []  \n",
      "55000     [2.78e-03, 2.68e-03, 4.32e-03, 2.44e-06, 4.96e-06, 3.00e-07, 9.75e-05, 1.46e-04, 2.49e-04]    [2.78e-03, 2.68e-03, 4.32e-03, 0.00e+00, 0.00e+00, 0.00e+00, 0.00e+00, 0.00e+00, 0.00e+00]    []  \n",
      "56000     [7.64e-03, 5.84e-03, 2.36e-02, 2.18e-05, 2.72e-05, 2.19e-06, 1.88e-04, 1.96e-04, 2.92e-04]    [7.64e-03, 5.84e-03, 2.36e-02, 0.00e+00, 0.00e+00, 0.00e+00, 0.00e+00, 0.00e+00, 0.00e+00]    []  \n",
      "57000     [2.80e-03, 2.56e-03, 4.24e-03, 1.59e-05, 9.83e-07, 2.81e-05, 7.92e-05, 1.25e-04, 2.09e-04]    [2.80e-03, 2.56e-03, 4.24e-03, 0.00e+00, 0.00e+00, 0.00e+00, 0.00e+00, 0.00e+00, 0.00e+00]    []  \n",
      "58000     [2.39e-03, 2.40e-03, 3.60e-03, 2.46e-06, 4.33e-06, 1.81e-07, 7.29e-05, 1.12e-04, 1.87e-04]    [2.39e-03, 2.40e-03, 3.60e-03, 0.00e+00, 0.00e+00, 0.00e+00, 0.00e+00, 0.00e+00, 0.00e+00]    []  \n",
      "59000     [8.46e-03, 8.64e-03, 2.45e-02, 4.03e-04, 1.17e-04, 4.82e-04, 2.13e-04, 2.00e-04, 3.37e-04]    [8.46e-03, 8.64e-03, 2.45e-02, 0.00e+00, 0.00e+00, 0.00e+00, 0.00e+00, 0.00e+00, 0.00e+00]    []  \n",
      "60000     [9.50e-03, 5.76e-03, 2.91e-02, 7.36e-06, 7.87e-06, 1.74e-05, 1.21e-04, 3.00e-04, 2.40e-04]    [9.50e-03, 5.76e-03, 2.91e-02, 0.00e+00, 0.00e+00, 0.00e+00, 0.00e+00, 0.00e+00, 0.00e+00]    []  \n",
      "\n",
      "Best model at step 58000:\n",
      "  train loss: 8.77e-03\n",
      "  test loss: 8.39e-03\n",
      "  test metric: []\n",
      "\n",
      "'train' took 83.433734 s\n",
      "\n"
     ]
    }
   ],
   "source": [
    "# define FNN architecture and compile\n",
    "net = dde.maps.FNN([1] + [40] * 3 + [3], \"tanh\", \"Glorot uniform\")\n",
    "model = dde.Model(data, net)\n",
    "model.compile(\"adam\", lr=0.001)\n",
    "\n",
    "# callbacks for storing results\n",
    "fnamevar = \"variables.dat\"\n",
    "variable = dde.callbacks.VariableValue(\n",
    "    [C1, C2, C3], \n",
    "    period=1,\n",
    "    filename=fnamevar\n",
    ")\n",
    "\n",
    "losshistory, train_state = model.train(epochs=60000, callbacks=[variable])"
   ]
  },
  {
   "cell_type": "markdown",
   "metadata": {
    "colab_type": "text",
    "id": "eWm5PVlcCz9n"
   },
   "source": [
    " Plot identified parameters"
   ]
  },
  {
   "cell_type": "code",
   "execution_count": 5,
   "metadata": {
    "colab": {
     "base_uri": "https://localhost:8080/",
     "height": 279
    },
    "colab_type": "code",
    "id": "hyPBX9r_C0aE",
    "outputId": "a7fda507-497a-4ea1-b4d2-dee4489f31a2"
   },
   "outputs": [
    {
     "data": {
      "image/png": "[encoded data removed]",
      "text/plain": [
       "<Figure size 432x288 with 1 Axes>"
      ]
     },
     "metadata": {
      "needs_background": "light"
     },
     "output_type": "display_data"
    }
   ],
   "source": [
    "# reopen saved data using callbacks in fnamevar \n",
    "lines = open(fnamevar, \"r\").readlines()\n",
    "\n",
    "# read output data in fnamevar (this line is a long story...)\n",
    "Chat = np.array([np.fromstring(min(re.findall(re.escape('[')+\"(.*?)\"+re.escape(']'),line), key=len), sep=',') for line in lines])\n",
    "\n",
    "l,c = Chat.shape\n",
    "\n",
    "plt.plot(range(l),Chat[:,0],'r-')\n",
    "plt.plot(range(l),Chat[:,1],'k-')\n",
    "plt.plot(range(l),Chat[:,2],'g-')\n",
    "plt.plot(range(l),np.ones(Chat[:,0].shape)*C1true,'r--')\n",
    "plt.plot(range(l),np.ones(Chat[:,1].shape)*C2true,'k--')\n",
    "plt.plot(range(l),np.ones(Chat[:,2].shape)*C3true,'g--')\n",
    "plt.legend(['C1hat','C2hat','C3hat','True C1','True C2','True C3'],loc = \"right\")\n",
    "plt.xlabel('Epoch')\n",
    "plt.show()"
   ]
  },
  {
   "cell_type": "code",
   "execution_count": 6,
   "metadata": {
    "colab": {
     "base_uri": "https://localhost:8080/",
     "height": 346
    },
    "colab_type": "code",
    "id": "2l75q3hu7SSi",
    "outputId": "289bdd39-19f6-4281-f8e7-dd99a05460a4"
   },
   "outputs": [
    {
     "name": "stdout",
     "output_type": "stream",
     "text": [
      "Predicting...\n",
      "'predict' took 0.010971 s\n",
      "\n"
     ]
    },
    {
     "data": {
      "image/png": "[encoded data removed]",
      "text/plain": [
       "<Figure size 432x288 with 1 Axes>"
      ]
     },
     "metadata": {
      "needs_background": "light"
     },
     "output_type": "display_data"
    }
   ],
   "source": [
    "yhat = model.predict(observe_t)\n",
    "\n",
    "plt.plot(observe_t, ob_y,'-',observe_t, yhat,'--')\n",
    "plt.xlabel('Time')\n",
    "plt.legend(['x','y','z','xh','yh','zh'])\n",
    "plt.title('Training data')\n",
    "plt.show()"
   ]
  },
  {
   "cell_type": "code",
   "execution_count": null,
   "metadata": {},
   "outputs": [],
   "source": []
  }
 ],
 "metadata": {
  "colab": {
   "collapsed_sections": [],
   "include_colab_link": true,
   "name": "Lorenz_inverse_Colab.ipynb",
   "provenance": []
  },
  "kernelspec": {
   "display_name": "Python 3",
   "language": "python",
   "name": "python3"
  },
  "language_info": {
   "codemirror_mode": {
    "name": "ipython",
    "version": 3
   },
   "file_extension": ".py",
   "mimetype": "text/x-python",
   "name": "python",
   "nbconvert_exporter": "python",
   "pygments_lexer": "ipython3",
   "version": "3.7.5"
  }
 },
 "nbformat": 4,
 "nbformat_minor": 1
}
