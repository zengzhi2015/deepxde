{
 "cells": [
  {
   "cell_type": "code",
   "execution_count": 1,
   "metadata": {
    "id": "OgtisP9zBSCF"
   },
   "outputs": [],
   "source": [
    "#approximate upper bound of range\n",
    "#right bound of domain (used for scaling)\n",
    "\n",
    "ub = 200\n",
    "rb = 20"
   ]
  },
  {
   "cell_type": "code",
   "execution_count": null,
   "metadata": {
    "colab": {
     "base_uri": "https://localhost:8080/",
     "height": 1000
    },
    "id": "4EVKhzoSBDlL",
    "outputId": "135d9c3a-0fd3-42cb-f126-bd54f047b377"
   },
   "outputs": [
    {
     "name": "stdout",
     "output_type": "stream",
     "text": [
      "Using TensorFlow 2 backend.\n",
      "\n",
      "WARNING:tensorflow:From c:\\programdata\\anaconda3\\envs\\deepxde\\lib\\site-packages\\tensorflow\\python\\compat\\v2_compat.py:96: disable_resource_variables (from tensorflow.python.ops.variable_scope) is deprecated and will be removed in a future version.\n",
      "Instructions for updating:\n",
      "non-resource variables are not supported in the long term\n",
      "Compiling model...\n",
      "Building feed-forward neural network...\n",
      "'build' took 0.091754 s\n",
      "\n"
     ]
    },
    {
     "name": "stderr",
     "output_type": "stream",
     "text": [
      "c:\\programdata\\anaconda3\\envs\\deepxde\\lib\\site-packages\\tensorflow\\python\\keras\\legacy_tf_layers\\core.py:171: UserWarning: `tf.layers.dense` is deprecated and will be removed in a future version. Please use `tf.keras.layers.Dense` instead.\n",
      "  warnings.warn('`tf.layers.dense` is deprecated and '\n",
      "c:\\programdata\\anaconda3\\envs\\deepxde\\lib\\site-packages\\tensorflow\\python\\keras\\engine\\base_layer_v1.py:1719: UserWarning: `layer.apply` is deprecated and will be removed in a future version. Please use `layer.__call__` method instead.\n",
      "  warnings.warn('`layer.apply` is deprecated and '\n"
     ]
    },
    {
     "name": "stdout",
     "output_type": "stream",
     "text": [
      "'compile' took 1.048565 s\n",
      "\n",
      "Initializing variables...\n",
      "Training model...\n",
      "\n",
      "Step      Train loss              Test loss               Test metric\n",
      "0         [1.10e+02, 1.10e+01]    [1.10e+02, 1.10e+01]    []  \n",
      "1000      [5.25e+00, 6.13e-01]    [5.31e+00, 6.13e-01]    []  \n",
      "2000      [3.31e+00, 2.42e-01]    [3.36e+00, 2.44e-01]    []  \n",
      "3000      [2.59e+00, 2.70e-01]    [2.63e+00, 2.72e-01]    []  \n",
      "4000      [2.01e+00, 3.02e-01]    [2.04e+00, 3.05e-01]    []  \n"
     ]
    }
   ],
   "source": [
    "from __future__ import absolute_import\n",
    "from __future__ import division\n",
    "from __future__ import print_function\n",
    "import math\n",
    "from deepxde.backend import tf\n",
    "import numpy as np\n",
    "import matplotlib.pyplot as plt\n",
    "\n",
    "import deepxde as dde\n",
    "\n",
    "\n",
    "def ode_system(x, y):\n",
    "    r = y[:, 0:1]\n",
    "    p = y[:, 1:2]\n",
    "    dr_t = dde.grad.jacobian(y, x, i=0)\n",
    "    dp_t = dde.grad.jacobian(y, x, i=1)\n",
    "    return [\n",
    "        dr_t - 1 / ub * rb * (2.0 * ub * r - 0.04 * ub * r * ub * p),\n",
    "        dp_t - 1 / ub * rb * (0.02 * r * ub * p * ub - 1.06 * p * ub),\n",
    "    ]\n",
    "\n",
    "\n",
    "def boundary(_, on_initial):\n",
    "    return on_initial\n",
    "\n",
    "\n",
    "geom = dde.geometry.TimeDomain(0.0, 1.0)\n",
    "data = dde.data.PDE(geom, ode_system, [], 3000, 2, \"sobol\", num_test=3000)\n",
    "\n",
    "layer_size = [1] + [64] * 6 + [2]\n",
    "activation = \"tanh\"\n",
    "initializer = \"Glorot normal\"\n",
    "net = dde.maps.FNN(layer_size, activation, initializer)\n",
    "\n",
    "\n",
    "def input_transform(t):\n",
    "    return tf.concat(\n",
    "        (\n",
    "            t,\n",
    "            tf.sin(t),\n",
    "            tf.sin(2 * t),\n",
    "            tf.sin(3 * t),\n",
    "            tf.sin(4 * t),\n",
    "            tf.sin(5 * t),\n",
    "            tf.sin(6 * t),\n",
    "        ),\n",
    "        axis=1,\n",
    "    )\n",
    "\n",
    "\n",
    "# hard constraints: x(0) = 100, y(0) = 15\n",
    "def output_transform(t, y):\n",
    "    y1 = y[:, 0:1]\n",
    "    y2 = y[:, 1:2]\n",
    "\n",
    "    return tf.concat(\n",
    "        (y1 * tf.math.tanh(t) + 100 / ub, y2 * tf.math.tanh(t) + 15 / ub), axis=1\n",
    "    )\n",
    "\n",
    "\n",
    "net.apply_feature_transform(input_transform)\n",
    "net.apply_output_transform(output_transform)\n",
    "\n",
    "model = dde.Model(data, net)\n",
    "model.compile(\"adam\", lr=0.001)\n",
    "losshistory, train_state = model.train(epochs=50000)\n",
    "\n",
    "model.compile(\"L-BFGS-B\")\n",
    "losshistory, train_state = model.train()\n",
    "\n",
    "dde.saveplot(losshistory, train_state, issave=True, isplot=True)\n"
   ]
  },
  {
   "cell_type": "code",
   "execution_count": null,
   "metadata": {
    "colab": {
     "base_uri": "https://localhost:8080/",
     "height": 364
    },
    "id": "PaIahCF0D1mV",
    "outputId": "64f8ea35-ad09-4d93-ce32-111d4871c40b"
   },
   "outputs": [],
   "source": [
    "from scipy import integrate\n",
    "import numpy as np\n",
    "import matplotlib.pyplot as plt\n",
    "\n",
    "\n",
    "def func(t, r):\n",
    "    x, y = r\n",
    "    dx_t = 1 / ub * rb * (2.0 * ub * x - 0.04 * ub * x * ub * y)\n",
    "    dy_t = 1 / ub * rb * (0.02 * ub * x * ub * y - 1.06 * ub * y)\n",
    "    return dx_t, dy_t\n",
    "\n",
    "\n",
    "t = np.linspace(0, 1, 100)\n",
    "\n",
    "sol = integrate.solve_ivp(func, (0, 10), (100 / ub, 15 / ub), t_eval=t)\n",
    "x_true, y_true = sol.y\n",
    "x_true = x_true.reshape(100, 1)\n",
    "y_true = y_true.reshape(100, 1)\n",
    "plt.plot(t, x_true, color=\"black\", label=\"x_true\")\n",
    "plt.plot(t, y_true, color=\"blue\", label=\"y_true\")\n",
    "\n",
    "t = t.reshape(100, 1)\n",
    "sol_pred = model.predict(t)\n",
    "x_pred = sol_pred[:, 0:1]\n",
    "y_pred = sol_pred[:, 1:2]\n",
    "\n",
    "plt.xlabel(\"t\")\n",
    "plt.ylabel(\"population\")\n",
    "plt.plot(t, x_pred, color=\"red\", linestyle=\"dashed\", label=\"x_pred\")\n",
    "plt.plot(t, y_pred, color=\"orange\", linestyle=\"dashed\", label=\"y_pred\")\n",
    "plt.legend()\n",
    "plt.show()\n",
    "\n",
    "\n",
    "print(\"L2 relative error for x:\", dde.metrics.l2_relative_error(x_true, x_pred))\n",
    "print(\"L2 relative error for y:\", dde.metrics.l2_relative_error(y_true, y_pred))\n"
   ]
  },
  {
   "cell_type": "code",
   "execution_count": null,
   "metadata": {},
   "outputs": [],
   "source": []
  }
 ],
 "metadata": {
  "accelerator": "GPU",
  "colab": {
   "name": "Lotka-Volterra Colab",
   "provenance": []
  },
  "kernelspec": {
   "display_name": "Python 3",
   "language": "python",
   "name": "python3"
  },
  "language_info": {
   "codemirror_mode": {
    "name": "ipython",
    "version": 3
   },
   "file_extension": ".py",
   "mimetype": "text/x-python",
   "name": "python",
   "nbconvert_exporter": "python",
   "pygments_lexer": "ipython3",
   "version": "3.8.0"
  }
 },
 "nbformat": 4,
 "nbformat_minor": 1
}
